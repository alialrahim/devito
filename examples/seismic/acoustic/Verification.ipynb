{
 "cells": [
  {
   "cell_type": "code",
   "execution_count": null,
   "metadata": {
    "collapsed": true
   },
   "outputs": [],
   "source": [
    "import numpy as np\n",
    "\n",
    "from devito.logger import info\n",
    "from examples.seismic.acoustic import AcousticWaveSolver\n",
    "from examples.seismic import Model, PointSource, Receiver\n",
    "\n",
    "from opescibench import LinePlotter\n",
    "\n",
    "import matplotlib.pyplot as plt\n",
    "from matplotlib import cm"
   ]
  },
  {
   "cell_type": "code",
   "execution_count": null,
   "metadata": {
    "collapsed": true
   },
   "outputs": [],
   "source": [
    "\n",
    "class ModelBench(Model):\n",
    "    \"\"\"\n",
    "    Physical model used for accuracy benchmarking,\n",
    "    all is the same as a model except the critical dt\n",
    "    made small enough to ignore\n",
    "    time discretization errors\n",
    "    \"\"\"\n",
    "\n",
    "    @property\n",
    "    def critical_dt(self):\n",
    "        \"\"\"Critical computational time step value from the CFL condition.\"\"\"\n",
    "        # For a fixed time order this number goes down as the space order increases.\n",
    "        #\n",
    "        # The CFL condtion is then given by\n",
    "        # dt <= coeff * h / (max(velocity))\n",
    "        coeff = 0.38 if len(self.shape) == 3 else 0.42\n",
    "        return .1/self.spacing[0]"
   ]
  },
  {
   "cell_type": "markdown",
   "metadata": {},
   "source": [
    "# Source function\n",
    "\n",
    "The source time function is a Ricker Wavelet with peak frequency $f_0$ defined as:\n",
    "\n",
    "\\begin{equation}\n",
    "     s(t) = (1 - 2 (\\pi f_0 (t - \\frac{2}{f_0}))^2) \\text{exp}(-(\\pi f_0 (t - \\frac{2}{f_0}))^2)\n",
    "\\end{equation}"
   ]
  },
  {
   "cell_type": "code",
   "execution_count": null,
   "metadata": {
    "collapsed": false
   },
   "outputs": [],
   "source": [
    "def source(time, f0):\n",
    "#     t00 = 4. / f0\n",
    "#     src = -200. * (time - t00) * (f0 ** 2) * (np.exp(- (f0 ** 2) * (time - t00) ** 2))\n",
    "    r = (np.pi * f0 * (time - 1./f0))\n",
    "    r1 = (np.pi * f0 * (time - 1./f0 - 50))\n",
    "    r2 = (np.pi * f0 * (time - 1./f0 - 100))\n",
    "    src = (1-2.*r**2)*np.exp(-r**2) - (1-2.*r1**2)*np.exp(-r1**2) + (1-2.*r2**2)*np.exp(-r2**2)\n",
    "#     src = (-200. * (time - 4./f0) * (f0 ** 2) * (np.exp(- (f0 ** 2) * (time - 4./f0) ** 2)) + \n",
    "#           350. * (time - 3./f0) * (f0 ** 2) * (np.exp(- (f0 ** 2) * (time - 3./f0) ** 2)) +\n",
    "#           -500. * (time - 5./f0) * (f0 ** 2) * (np.exp(- (f0 ** 2) * (time - 5./f0) ** 2)) )\n",
    "    return np.float32(src)"
   ]
  },
  {
   "cell_type": "markdown",
   "metadata": {},
   "source": [
    "# Analytical solution\n",
    "\n",
    "In 2D case, the Green's function is\n",
    "\n",
    "$$\n",
    "G = \\frac{1}{2\\pi c^2}\\frac{H(t-\\frac{|r|}{c})}{\\sqrt{t^2-\\frac{r^2}{c^2}}}\n",
    "$$\n",
    "\n",
    "$$\n",
    "r = \\sqrt{x^2+y^2}\n",
    "$$\n",
    "\n",
    "where $H$ is the Heaviside function, defined as \n",
    "\n",
    "$$\n",
    "H(x) = \\left\\{\n",
    "\\begin{array}{ll}\n",
    "    0 &x<0 \\\\\n",
    "\t1 &x \\geq 0 \t\n",
    "\\end{array}\n",
    "\\right.\n",
    "$$\n",
    "\n",
    "and for a given time signature, the analytical solution is given by the convolution of the Green's function and the source time signature."
   ]
  },
  {
   "cell_type": "code",
   "execution_count": null,
   "metadata": {
    "collapsed": true
   },
   "outputs": [],
   "source": [
    "def G(time, source, r, dtloc):\n",
    "    nt = len(time)\n",
    "    G = np.zeros((nt, len(r)), dtype=np.float32)\n",
    "    v = np.float32(1.0)\n",
    "    for ix in range(len(r)):\n",
    "        Gc = time * 0.\n",
    "        for it in range(0, nt): # Calculate Green's function\n",
    "            if ((time[it] - r[ix] / v) > 1e-5):\n",
    "                Gc[it] = (1. / (2 * np.pi)) \\\n",
    "                         * (1. / np.sqrt((time[it] ** 2) - ((r[ix]/v) ** 2)))\n",
    "        G[:, ix]   = np.convolve(Gc, source * dtloc).astype(np.float32)[0:nt]\n",
    "    return G"
   ]
  },
  {
   "cell_type": "markdown",
   "metadata": {},
   "source": [
    "# Verification\n",
    "\n",
    "We compute the error between the numerical and analytical solutions for varying spatial discretization order and grid spacing. We also compare the time to solution to the erro for these parameters."
   ]
  },
  {
   "cell_type": "code",
   "execution_count": null,
   "metadata": {
    "collapsed": false
   },
   "outputs": [],
   "source": [
    "from sympy import Eq, solve\n",
    "from devito import clear_cache, Operator, TimeFunction\n",
    "from devito.logger import set_log_level\n",
    "sizes = ((401 , 2.0), (301, 3.0), (201, 4.0), (101, 5.0), (51, 6.0))\n",
    "orders = [2, 4, 6, 8 ,10]\n",
    "\n",
    "errorl2 = np.zeros((len(sizes), len(orders)))\n",
    "times = np.zeros((len(sizes), len(orders)))\n",
    "\n",
    "set_log_level(\"ERROR\")\n",
    "\n",
    "cs = -1\n",
    "\n",
    "for nn, h in sizes:\n",
    "    cs += 1\n",
    "    co = -1\n",
    "#     print(\"starting dx=%s with (%s, %s) grid points\" % (h, nn, nn))\n",
    "    for spc in orders:\n",
    "#         print(\"starting space order %s with (%s, %s) grid points\" % (spc, nn, nn))\n",
    "        co += 1\n",
    "        clear_cache()\n",
    "        modelloc = ModelBench(vp=1., origin=(0., 0.), spacing=(h, h), shape=(nn, nn), nbpml=0)\n",
    "        dt = modelloc.critical_dt\n",
    "        t0 = 0.0\n",
    "        nt = 20000  # Number of timesteps\n",
    "        time1 = np.asarray([i*dt for i in range(nt)]).astype(np.float32) # Discretized time axis\n",
    "        src = PointSource(name='src', grid=modelloc.grid, ntime=nt, npoint=1)\n",
    "        src.coordinates.data[0, :] = np.array(modelloc.domain_size) * .5\n",
    "        src.data[:, 0] = source(time1, 0.025)\n",
    "        \n",
    "        sx = int((nn-1)/2)\n",
    "        \n",
    "        rloc = h*np.abs(np.arange(-sx, sx+1), dtype=np.float32)\n",
    "            \n",
    "        analyticalloc = G(time1, source(time1, 0.025), rloc, dt)\n",
    "\n",
    "        # Create symbols for forward wavefield, source and receivers\n",
    "        u = TimeFunction(name='u', grid=modelloc.grid, save=False,\n",
    "                         time_order=2, space_order=spc)\n",
    "\n",
    "        eqn = modelloc.m * u.dt2 - u.laplace\n",
    "        s = modelloc.grid.stepping_dim.spacing\n",
    "        stencil = [Eq(u.forward, 2.0 * u - u.backward + s**2/modelloc.m * u.laplace)]\n",
    "\n",
    "        # Construct expression to inject source values\n",
    "        src_term = [Eq(u.indexed[modelloc.grid.stepping_dim + 1, sx, sx], u.indexed[modelloc.grid.stepping_dim + 1, sx, sx]+\n",
    "                       src.indexed[modelloc.grid.time_dim, src.indices[1]])]\n",
    "        # Substitute spacing terms to reduce flops\n",
    "        subs = dict({u.indices[0].spacing: dt}, **modelloc.spacing_map)\n",
    "\n",
    "        op = Operator(stencil + src_term, subs=subs, dse='noop', dle='noop')\n",
    "        \n",
    "        summary = op.apply ()\n",
    "            \n",
    "        errorl2[cs, co] = np.linalg.norm(analyticalloc[nt-1, :]/np.linalg.norm(analyticalloc[nt-1, :]) -\n",
    "                                         u.data[nt%3, :, int((nn-1)/2)]/np.linalg.norm(u.data[nt%3, :, int((nn-1)/2)]))\n",
    "        times[cs, co] = summary.timings['main']\n",
    "        \n",
    "        print(\"starting space order %s with (%s, %s) grid points the error is %s\" % (spc, nn, nn, errorl2[cs, co]))\n",
    "        \n",
    "        \n",
    "        "
   ]
  },
  {
   "cell_type": "code",
   "execution_count": null,
   "metadata": {
    "collapsed": false
   },
   "outputs": [],
   "source": [
    "stylel = ('-^k', '-^b', '-^r', '-^g', '-^c')\n",
    "\n",
    "with LinePlotter(figname='MyPrettyPicture.pdf', plotdir='./',  xlabel='error') as plot:\n",
    "    for i in range(0, len(orders)):\n",
    "        plot.add_line(list(errorl2[:, i]), list(times[:, i]), label=('order %s' % orders[i]),\n",
    "                      annotations=[('dx = %s m' % (sc)) for _, sc in sizes][::-1], style=stylel[i])\n",
    "\n",
    "plt.clf()\n",
    "from IPython.display import IFrame\n",
    "IFrame(\"MyPrettyPicture.pdf\", width=600, height=600)"
   ]
  },
  {
   "cell_type": "code",
   "execution_count": null,
   "metadata": {
    "collapsed": false
   },
   "outputs": [],
   "source": [
    "print(times)"
   ]
  },
  {
   "cell_type": "code",
   "execution_count": null,
   "metadata": {
    "collapsed": false,
    "scrolled": true
   },
   "outputs": [],
   "source": [
    "print(errorl2)"
   ]
  },
  {
   "cell_type": "code",
   "execution_count": null,
   "metadata": {
    "collapsed": false
   },
   "outputs": [],
   "source": [
    "stylel = ('-^k', '-^b', '-^r', '-^g', '-^c')\n",
    "style2 = ('--k', '--b', '--r', '--g', '--c')\n",
    "\n",
    "with LinePlotter(figname='MyPrettyPicture3.pdf', plotdir='./',  xlabel='Grid size', ylabel = 'L2 error') as plot:\n",
    "    for i in range(0, len(orders)):\n",
    "        theory = [k**(orders[i]) for k in [2, 4, 6, 8, 10]][::-1]\n",
    "        theory = [errorl2[-1,i]*th/theory[0] for th in theory]\n",
    "        plot.add_line([sc for _, sc in sizes][::-1], list(errorl2[::-1, i]), label=('order %s' % orders[i]),\n",
    "                      annotations=[('dx = %s m' % (sc)) for _, sc in sizes][::-1], style=stylel[i])\n",
    "#         plot.add_line([sc for _, sc in sizes][::-1], list(theory), style=style2[i])\n",
    "plt.clf()\n",
    "from IPython.display import IFrame\n",
    "IFrame(\"MyPrettyPicture3.pdf\", width=600, height=600)"
   ]
  },
  {
   "cell_type": "code",
   "execution_count": null,
   "metadata": {
    "collapsed": false
   },
   "outputs": [],
   "source": [
    "# h = 4\n",
    "# nn = 181\n",
    "# spc = 10\n",
    "# from devito import clear_cache, TimeFunction, Operator\n",
    "# from sympy import Eq, solve\n",
    "# clear_cache()\n",
    "# modelloc = ModelBench(vp=1., origin=(0., 0.), spacing=(1.0*h, 1.0*h), shape=(nn, nn), nbpml=0)\n",
    "# dt = modelloc.critical_dt\n",
    "# t0 = 0.0\n",
    "# nt = 3360  # Number of timesteps\n",
    "# time1 = np.asarray([i*dt for i in range(nt)]) # Discretized time axis\n",
    "# src = PointSource(name='src', grid=modelloc.grid, ntime=nt, npoint=1)\n",
    "# src.coordinates.data[0, :] = np.array(modelloc.domain_size) * .5\n",
    "# src.data[:, 0] = source(time1, 0.025)\n",
    "# sx = int((nn-1)/2)\n",
    "\n",
    "# rloc = float(h)*np.abs(np.arange(-sx, sx+1))\n",
    "\n",
    "# analyticalloc = G(time1, source(time1, 0.025), rloc, dt)\n",
    "\n",
    "# # Create symbols for forward wavefield, source and receivers\n",
    "# u = TimeFunction(name='u', grid=modelloc.grid, save=False,\n",
    "#                  time_order=2, space_order=spc)\n",
    "\n",
    "# eqn = modelloc.m * u.dt2 - u.laplace\n",
    "# s = modelloc.grid.stepping_dim.spacing\n",
    "# stencil = [Eq(u.forward, 2.0 * u - u.backward + s**2/modelloc.m * u.laplace)]\n",
    "\n",
    "# # Construct expression to inject source values\n",
    "# src_term = [Eq(u.indexed[modelloc.grid.stepping_dim + 1, sx, sx], u.indexed[modelloc.grid.stepping_dim + 1, sx, sx]+\n",
    "#                src.indexed[modelloc.grid.time_dim, src.indices[1]])]\n",
    "# # Substitute spacing terms to reduce flops\n",
    "# subs = dict({u.indices[0].spacing: dt}, **modelloc.spacing_map)\n",
    "\n",
    "# op = Operator(stencil + src_term, subs=subs, dse='noop', dle='noop')\n",
    "\n",
    "# summary = op.apply ()"
   ]
  },
  {
   "cell_type": "code",
   "execution_count": null,
   "metadata": {
    "collapsed": false
   },
   "outputs": [],
   "source": [
    "# plt.figure()\n",
    "# plt.plot(analyticalloc[nt-1, :]/np.linalg.norm(analyticalloc[nt-1, :], 2), label=\"analy\")\n",
    "# plt.plot(u.data[(nt)%3, :, int((nn-1)/2)]/np.linalg.norm(u.data[(nt)%3, :, int((nn-1)/2)], 2), label=\"num\")\n",
    "# plt.legend()\n",
    "# plt.show()\n",
    "# plt.figure()\n",
    "# plt.plot((analyticalloc[nt-1, :]/np.linalg.norm(analyticalloc[nt-1, :], 2) -\n",
    "#                                          u.data[(nt)%3, :, int((nn-1)/2)]/np.linalg.norm(u.data[(nt)%3, :, int((nn-1)/2)], 2)))\n",
    "# plt.show() "
   ]
  },
  {
   "cell_type": "code",
   "execution_count": null,
   "metadata": {
    "collapsed": true
   },
   "outputs": [],
   "source": []
  }
 ],
 "metadata": {
  "anaconda-cloud": {},
  "kernelspec": {
   "display_name": "Python [default]",
   "language": "python",
   "name": "python2"
  },
  "language_info": {
   "codemirror_mode": {
    "name": "ipython",
    "version": 2
   },
   "file_extension": ".py",
   "mimetype": "text/x-python",
   "name": "python",
   "nbconvert_exporter": "python",
   "pygments_lexer": "ipython2",
   "version": "2.7.12"
  }
 },
 "nbformat": 4,
 "nbformat_minor": 2
}
